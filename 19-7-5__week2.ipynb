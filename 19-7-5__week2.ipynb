{
 "cells": [
  {
   "cell_type": "markdown",
   "metadata": {},
   "source": [
    "# Read the data into a pandas dataframe, which is basically an excell spreadsheet. The features of this dataset are included in the list \"all_features\""
   ]
  },
  {
   "cell_type": "code",
   "execution_count": 42,
   "metadata": {},
   "outputs": [],
   "source": [
    "import pandas as pd\n",
    "import numpy as np\n",
    "from sklearn.decomposition import PCA\n",
    "from sklearn.preprocessing import StandardScaler\n",
    "\n",
    "\n",
    "path = \"\"\n",
    "file = 'wisconsin.csv'\n",
    "path_to_file = path+file\n",
    "\n",
    "\n",
    "df = pd.read_csv(path_to_file, sep=',')\n",
    "\n",
    "\n",
    "all_features = ['radius_mean','texture_mean','perimeter_mean', 'area_mean', 'smoothness_mean', \n",
    "            'compactness_mean', 'concavity_mean', 'concave points_mean', 'symmetry_mean', 'fractal_dimension_mean',\n",
    "            'radius_se', 'texture_se', 'perimeter_se', 'area_se', 'smoothness_se',\n",
    "            'compactness_se', 'concavity_se', 'concave points_se', 'symmetry_se','fractal_dimension_se', 'radius_worst', \n",
    "            'texture_worst', 'perimeter_worst','area_worst', 'smoothness_worst', 'compactness_worst', 'concavity_worst', \n",
    "            'concave points_worst', 'symmetry_worst', 'fractal_dimension_worst']\n"
   ]
  },
  {
   "cell_type": "markdown",
   "metadata": {},
   "source": [
    "# Our initial learning curve using a basic support vector classifier (SVC)"
   ]
  },
  {
   "cell_type": "code",
   "execution_count": 39,
   "metadata": {
    "scrolled": true
   },
   "outputs": [
    {
     "data": {
      "image/png": "[encoded data removed]",
      "text/plain": [
       "<Figure size 432x288 with 1 Axes>"
      ]
     },
     "metadata": {
      "needs_background": "light"
     },
     "output_type": "display_data"
    }
   ],
   "source": [
    "from sklearn.model_selection import learning_curve\n",
    "import matplotlib.pyplot as plt\n",
    "from sklearn.svm import SVC\n",
    "\n",
    "\n",
    "X = df[all_features] # dataset of features describing malignant and benign tumours\n",
    "y = df['diagnosis'] # corresponding labels which denote whether the tumour is malignant or benign\n",
    "\n",
    "#we need to first scale the data so that all values are on the same order of magnitude to each other.\n",
    "# not scaling the data has a huge hit to performance.\n",
    "scaler = StandardScaler()\n",
    "X = scaler.fit_transform(X)\n",
    "\n",
    "#define our model, the default uses an 'rbf' kernel which is what we like to use.\n",
    "model=SVC()\n",
    "\n",
    "cv=5 #define the numnber of cross-validations to perform\n",
    "\n",
    "#this makes a learning curve! and outputs the accuracy for each cross-validation iteration, for each amount of data included\n",
    "train_sizes, train_scores, test_scores = learning_curve(model, X, y, cv=cv) \n",
    "\n",
    "mean_train_score = np.mean(train_scores,axis=1) #take the average mean accuracy for each size of training data\n",
    "mean_test_score = np.mean(test_scores,axis=1)\n",
    "\n",
    "\n",
    "#plot an x,y,colour=, graph.\n",
    "plt.plot(train_sizes, mean_train_score, c='r')\n",
    "plt.plot(train_sizes, mean_test_score, c='b')\n",
    "plt.show() #show the graph in the console\n"
   ]
  },
  {
   "cell_type": "markdown",
   "metadata": {},
   "source": [
    "# Our first grid search to try and improve upon our initial learning curve.."
   ]
  },
  {
   "cell_type": "code",
   "execution_count": 72,
   "metadata": {},
   "outputs": [
    {
     "name": "stdout",
     "output_type": "stream",
     "text": [
      "{'gamma': [0.01, 0.05, 0.1, 0.25, 0.5], 'C': [0.01, 0.1, 1, 2, 5, 10]}\n",
      "...running grid search...\n",
      "best parameters: {'C': 1, 'gamma': 0.01}\n",
      "best score: 0.9758241758241758\n"
     ]
    }
   ],
   "source": [
    "from sklearn.model_selection import GridSearchCV\n",
    "from sklearn.model_selection import StratifiedShuffleSplit\n",
    "from sklearn.model_selection import train_test_split\n",
    "\n",
    "\n",
    "X = df[all_features]\n",
    "y = df['diagnosis']\n",
    "\n",
    "scaler = StandardScaler()\n",
    "X = scaler.fit_transform(X)\n",
    "\n",
    "# this is only necessary if you want to be super conservative...\n",
    "# we are reserving 20% of the data as a true test set, and then will perform cross-validation on the train set.\n",
    "#note, random state 42 is kind of just a joke number... pick whatever random seed number you like.. its just to ensure replicability\n",
    "X_train, X_test, y_train, y_test = train_test_split(X, y, test_size=0.2, random_state=42)\n",
    "\n",
    "\n",
    "#setting up our grid range to iterate through parameter choices\n",
    "C_range = [0.01,0.1,1,2,5,10]\n",
    "gamma_range = [0.01,0.05,0.1,0.25,0.5]\n",
    "\n",
    "#construct a dictionary to define the parameter ranges\n",
    "param_grid = dict(gamma=gamma_range,C=C_range)\n",
    "print(param_grid)\n",
    "\n",
    "#define our cross-validation splits\n",
    "cv = StratifiedShuffleSplit(n_splits=5, test_size=0.2, random_state=42)\n",
    "#choose a base model (corresponding to the parameters we are going to iterate)\n",
    "svc = SVC()\n",
    "#setup our gridsearch using the mode, the parameter dictionary, the cross-validation instructions\n",
    "grid = GridSearchCV(svc, param_grid=param_grid, cv=cv) #default cross validation is 3-fold\n",
    "#... grid setup\n",
    "\n",
    "print('...running grid search...')\n",
    "#fit the grid model with our data\n",
    "grid.fit(X_train,y_train) #replace with grid.fit(X,y) if you do not want to reserve a test set\n",
    "best_params = grid.best_params_ #best parameters\n",
    "best_score = grid.best_score_ #best corresponding score\n",
    "\n",
    "print(f'best parameters: {best_params}\\nbest score: {best_score}')"
   ]
  },
  {
   "cell_type": "code",
   "execution_count": 73,
   "metadata": {},
   "outputs": [
    {
     "name": "stdout",
     "output_type": "stream",
     "text": [
      "test set accuracy: 0.9824561403508771\n"
     ]
    }
   ],
   "source": [
    "#test on test set with best params\n",
    "from sklearn.metrics import accuracy_score\n",
    "\n",
    "svc = SVC(C=2,gamma=0.01)\n",
    "svc.fit(X_train,y_train)\n",
    "\n",
    "y_pred = svc.predict(X_test)\n",
    "accuracy = accuracy_score(y_test, y_pred)\n",
    "\n",
    "print(f\"test set accuracy: {accuracy}\")"
   ]
  },
  {
   "cell_type": "markdown",
   "metadata": {},
   "source": [
    "# post grid search learning curve"
   ]
  },
  {
   "cell_type": "code",
   "execution_count": 74,
   "metadata": {},
   "outputs": [
    {
     "data": {
      "image/png": "[encoded data removed]",
      "text/plain": [
       "<Figure size 432x288 with 1 Axes>"
      ]
     },
     "metadata": {
      "needs_background": "light"
     },
     "output_type": "display_data"
    }
   ],
   "source": [
    "from sklearn.model_selection import learning_curve\n",
    "import matplotlib.pyplot as plt\n",
    "from sklearn.svm import SVC\n",
    "\n",
    "cv=5\n",
    "X = df[all_features]\n",
    "y = df['diagnosis']\n",
    "\n",
    "scaler = StandardScaler()\n",
    "X = scaler.fit_transform(X)\n",
    "\n",
    "model=SVC(C=2,gamma=0.01) \n",
    "\n",
    "train_sizes, train_scores, test_scores = learning_curve(model, X, y, cv=cv)\n",
    "\n",
    "mean_train_score = np.mean(train_scores,axis=1)\n",
    "mean_test_score = np.mean(test_scores,axis=1)\n",
    "\n",
    "\n",
    "plt.plot(train_sizes, mean_train_score, c='r')\n",
    "plt.plot(train_sizes, mean_test_score, c='b')\n",
    "plt.show()"
   ]
  },
  {
   "cell_type": "markdown",
   "metadata": {},
   "source": [
    "# Lets try and reduce the number of features to see if we can improve accuracy"
   ]
  },
  {
   "cell_type": "code",
   "execution_count": 76,
   "metadata": {},
   "outputs": [
    {
     "name": "stdout",
     "output_type": "stream",
     "text": [
      "[0.44272026 0.18971182 0.09393163 0.06602135 0.05495768 0.04024522\n",
      " 0.02250734 0.01588724 0.01389649 0.01168978 0.00979719 0.00870538\n",
      " 0.00804525 0.00523366 0.00313783 0.00266209]\n",
      "nfeatures: 30, nPCs: 16 explains 0.9891502160765598 of total variance\n",
      "{'gamma': [0.01, 0.05, 0.1, 0.25, 0.5], 'C': [0.01, 0.1, 1, 2, 5, 10]}\n",
      "...running grid search...\n",
      "best parameters: {'C': 1, 'gamma': 0.05}\n",
      "best score: 0.978021978021978\n"
     ]
    }
   ],
   "source": [
    "#lets reduce features with PCA\n",
    "\n",
    "X = df[all_features]\n",
    "y = df['diagnosis']\n",
    "#y = df['diagnosis']\n",
    "\n",
    "scaler = StandardScaler()\n",
    "X = scaler.fit_transform(X)\n",
    "\n",
    "\n",
    "nPCs = 16   #choose the number of PCs, ideally, find the number whereby >99% of variance is retained\n",
    "pca = PCA(n_components=nPCs) #create the PCA model with predefined paramters\n",
    "\n",
    "X = pca.fit_transform(X) # PCA transform our data\n",
    "\n",
    "print(pca.explained_variance_ratio_) #explained variance\n",
    "print(f\"nfeatures: {len(all_features)}, nPCs: {nPCs} explains {np.sum(pca.explained_variance_ratio_)} of total variance\")\n",
    "\n",
    "X_train, X_test, y_train, y_test = train_test_split(X, y, test_size=0.2, random_state=42) #random state 42 is kind of just a joke number.. pick whatever seed you like\n",
    "\n",
    "#REDO THE GRID SEARCH USING PCA TRANSFORMED DATA\n",
    "\n",
    "#setting up our grid range...\n",
    "C_range = [0.01,0.1,1,2,5,10]\n",
    "gamma_range = [0.01,0.05,0.1,0.25,0.5]\n",
    "\n",
    "param_grid = dict(gamma=gamma_range,C=C_range)\n",
    "print(param_grid)\n",
    "\n",
    "cv = StratifiedShuffleSplit(n_splits=5, test_size=0.2, random_state=42)\n",
    "svc = SVC()\n",
    "grid = GridSearchCV(svc, param_grid=param_grid, cv=cv)\n",
    "#... grid setup\n",
    "\n",
    "print('...running grid search...')\n",
    "grid.fit(X_train,y_train) #replace with grid.fit(X,y) if you do not want to reserve a test set\n",
    "best_params = grid.best_params_\n",
    "best_score = grid.best_score_\n",
    "\n",
    "print(f'best parameters: {best_params}\\nbest score: {best_score}')\n"
   ]
  },
  {
   "cell_type": "code",
   "execution_count": 77,
   "metadata": {},
   "outputs": [
    {
     "name": "stdout",
     "output_type": "stream",
     "text": [
      "test set accuracy: 0.9824561403508771\n"
     ]
    }
   ],
   "source": [
    "from sklearn.metrics import accuracy_score\n",
    "\n",
    "svc = SVC(C=2,gamma=0.01)\n",
    "svc.fit(X_train,y_train)\n",
    "\n",
    "y_pred = svc.predict(X_test)\n",
    "accuracy = accuracy_score(y_test, y_pred)\n",
    "\n",
    "print(f\"test set accuracy: {accuracy}\")"
   ]
  },
  {
   "cell_type": "markdown",
   "metadata": {},
   "source": [
    "# Lets try to select the individual 10 most predictive feature combinations and see if this improves accuracy"
   ]
  },
  {
   "cell_type": "code",
   "execution_count": 89,
   "metadata": {
    "scrolled": false
   },
   "outputs": [
    {
     "name": "stdout",
     "output_type": "stream",
     "text": [
      "[12 17 19 21 18  1  4  1  7 14  1 11 16  1  3  6 10 15  1  2  1  1 13  1\n",
      " 20  9  1  8  1  5]\n",
      "['compactness_mean', 'concave points_mean', 'radius_se', 'area_se', 'symmetry_se', 'radius_worst', 'texture_worst', 'area_worst', 'concavity_worst', 'symmetry_worst']\n"
     ]
    }
   ],
   "source": [
    "from sklearn.feature_selection import RFE\n",
    "\n",
    "X = df[all_features]\n",
    "y = df['diagnosis']\n",
    "\n",
    "scaler = StandardScaler()\n",
    "X = scaler.fit_transform(X)\n",
    "\n",
    "model = SVC(C=2,kernel='linear') # for some reason RFE doesn't work with RBF kernels...\n",
    "\n",
    "\n",
    "#setup the RFE model with its parameters...\n",
    "rfe = RFE(model, n_features_to_select=10, step=1)\n",
    "\n",
    "X_train, X_test, y_train, y_test = train_test_split(X, y, test_size=0.2, random_state=42)\n",
    "\n",
    "#fit the RFE model\n",
    "rfe.fit(X_train, y_train)\n",
    "ranking = rfe.ranking_ #ranking of input features, the top number will all appear with a 1\n",
    "\n",
    "print(ranking)\n",
    "\n",
    "# some messy code to return a list of the top features from the initial list\n",
    "feature_rankings = np.where(ranking == 1)\n",
    "\n",
    "top_features = list(np.array(all_features)[feature_rankings])\n",
    "print(top_features)\n"
   ]
  },
  {
   "cell_type": "code",
   "execution_count": 90,
   "metadata": {},
   "outputs": [
    {
     "name": "stdout",
     "output_type": "stream",
     "text": [
      "train accuracy, 0.9824175824175824\n",
      "test set accuracy: 0.9473684210526315\n"
     ]
    }
   ],
   "source": [
    "## repeat the procedure with the best features!\n",
    "X = df[top_features]\n",
    "y = df['diagnosis']\n",
    "\n",
    "scaler = StandardScaler()\n",
    "X = scaler.fit_transform(X)\n",
    "\n",
    "X_train, X_test, y_train, y_test = train_test_split(X, y, test_size=0.2, random_state=42)\n",
    "\n",
    "\n",
    "model = SVC(C=2, gamma=0.1, kernel='rbf') #default kernel\n",
    "model.fit(X_train,y_train)\n",
    "\n",
    "print(f\"train accuracy, {model.score(X_train,y_train)}\")\n",
    "\n",
    "y_pred = model.predict(X_test)\n",
    "accuracy = accuracy_score(y_test, y_pred)\n",
    "\n",
    "print(f\"test set accuracy: {accuracy}\")"
   ]
  },
  {
   "cell_type": "markdown",
   "metadata": {},
   "source": [
    "# A note about using standard scaler and PCA... you might be applying your model to not a dataset.. but new novel values, how do we scale and PCA transform new data??"
   ]
  },
  {
   "cell_type": "code",
   "execution_count": 95,
   "metadata": {},
   "outputs": [
    {
     "name": "stdout",
     "output_type": "stream",
     "text": [
      "     radius_mean  texture_mean  perimeter_mean  area_mean  smoothness_mean  \\\n",
      "68         9.029         17.33           58.79      250.5          0.10660   \n",
      "181       21.090         26.57          142.70     1311.0          0.11410   \n",
      "63         9.173         13.86           59.20      260.9          0.07721   \n",
      "248       10.650         25.22           68.01      347.0          0.09657   \n",
      "60        10.170         14.88           64.55      311.9          0.11340   \n",
      "\n",
      "     compactness_mean  concavity_mean  concave points_mean  symmetry_mean  \\\n",
      "68            0.14130         0.31300              0.04375         0.2111   \n",
      "181           0.28320         0.24870              0.14960         0.2395   \n",
      "63            0.08751         0.05988              0.02180         0.2341   \n",
      "248           0.07234         0.02379              0.01615         0.1897   \n",
      "60            0.08061         0.01084              0.01290         0.2743   \n",
      "\n",
      "     fractal_dimension_mean           ...             radius_worst  \\\n",
      "68                  0.08046           ...                    10.31   \n",
      "181                 0.07398           ...                    26.68   \n",
      "63                  0.06963           ...                    10.01   \n",
      "248                 0.06329           ...                    12.25   \n",
      "60                  0.06960           ...                    11.02   \n",
      "\n",
      "     texture_worst  perimeter_worst  area_worst  smoothness_worst  \\\n",
      "68           22.65            65.50       324.7           0.14820   \n",
      "181          33.48           176.50      2089.0           0.14910   \n",
      "63           19.23            65.59       310.1           0.09836   \n",
      "248          35.19            77.98       455.7           0.14990   \n",
      "60           17.45            69.86       368.6           0.12750   \n",
      "\n",
      "     compactness_worst  concavity_worst  concave points_worst  symmetry_worst  \\\n",
      "68             0.43650          1.25200               0.17500          0.4228   \n",
      "181            0.75840          0.67800               0.29030          0.4098   \n",
      "63             0.16780          0.13970               0.05087          0.3282   \n",
      "248            0.13980          0.11250               0.06136          0.3409   \n",
      "60             0.09866          0.02168               0.02579          0.3557   \n",
      "\n",
      "     fractal_dimension_worst  \n",
      "68                   0.11750  \n",
      "181                  0.12840  \n",
      "63                   0.08490  \n",
      "248                  0.08147  \n",
      "60                   0.08020  \n",
      "\n",
      "[5 rows x 30 columns]\n",
      "[[-1.44075296 -0.43531947 -1.36208497 ...  0.9320124   2.09724217\n",
      "   1.88645014]\n",
      " [ 1.97409619  1.73302577  2.09167167 ...  2.6989469   1.89116053\n",
      "   2.49783848]\n",
      " [-1.39998202 -1.24962228 -1.34520926 ... -0.97023893  0.59760192\n",
      "   0.0578942 ]\n",
      " ...\n",
      " [ 0.04880192 -0.55500086 -0.06512547 ... -1.23903365 -0.70863864\n",
      "  -1.27145475]\n",
      " [-0.03896885  0.10207345 -0.03137406 ...  1.05001236  0.43432185\n",
      "   1.21336207]\n",
      " [-0.54860557  0.31327591 -0.60350155 ... -0.61102866 -0.3345212\n",
      "  -0.84628745]]\n",
      "[[-0.46649743 -0.13728933 -0.44421138 ... -0.19435087  0.17275669\n",
      "   0.20372995]\n",
      " [ 1.36536344  0.49866473  1.30551088 ...  0.99177862 -0.561211\n",
      "  -1.00838949]\n",
      " [ 0.38006578  0.06921974  0.40410139 ...  0.57035018 -0.10783139\n",
      "  -0.20629287]\n",
      " ...\n",
      " [-0.73547237 -0.99852603 -0.74138839 ... -0.27741059 -0.3820785\n",
      "  -0.32408328]\n",
      " [ 0.02898271  2.0334026   0.0274851  ... -0.49027026 -1.60905688\n",
      "  -0.33137507]\n",
      " [ 1.87216885  2.80077153  1.80354992 ...  0.7925579  -0.05868885\n",
      "  -0.09467243]]\n",
      "[[-0.73876965  0.64390571 -0.66365904 ...  0.0324953   0.10210081\n",
      "   0.05703779]\n",
      " [ 2.68151063 -4.41052393  0.36269575 ... -0.20525016 -0.33642524\n",
      "   0.06228105]\n",
      " [ 1.47649913 -1.07657525 -1.27837096 ...  0.16699455  0.37675189\n",
      "   0.34963867]\n",
      " ...\n",
      " [-2.43399216  0.46663701 -0.57430281 ...  0.10992955  0.25214557\n",
      "   0.07490289]\n",
      " [-0.6736441  -1.00645611  1.05219847 ... -0.1747033  -0.2431117\n",
      "   0.28923739]\n",
      " [ 6.5832092  -5.99429172  0.79160615 ...  0.22344569 -1.27927834\n",
      "  -0.347636  ]]\n"
     ]
    }
   ],
   "source": [
    "X = df[all_features]\n",
    "y = df['diagnosis']\n",
    "\n",
    "scaler = StandardScaler()\n",
    "pca = PCA(n_components=16) #uses as many components as features\n",
    "\n",
    "X_train, X_test, y_train, y_test = train_test_split(X, y, test_size=0.2, random_state=42)\n",
    "\n",
    "scaler = scaler.fit(X_train)\n",
    "\n",
    "print(X_train.head())\n",
    "X_train = scaler.transform(X_train)\n",
    "print(X_train)\n",
    "X_test = scaler.transform(X_test) #transforms using the parameters learned from the training dataset\n",
    "print(X_test)\n",
    "\n",
    "X_train = pca.fit_transform(X_train) #transforms using the parameters learned from the training dataset\n",
    "X_test = pca.transform(X_test)\n",
    "\n",
    "print(X_test)\n",
    "\n",
    "\n",
    "#in summary.. save the scaler and pca models, and use them to transform subsequent data you see, so all data which feeds into \n",
    "# the model is transformed in the same way and is therefore equivalent.\n"
   ]
  }
 ],
 "metadata": {
  "kernelspec": {
   "display_name": "Python 3",
   "language": "python",
   "name": "python3"
  },
  "language_info": {
   "codemirror_mode": {
    "name": "ipython",
    "version": 3
   },
   "file_extension": ".py",
   "mimetype": "text/x-python",
   "name": "python",
   "nbconvert_exporter": "python",
   "pygments_lexer": "ipython3",
   "version": "3.7.3"
  }
 },
 "nbformat": 4,
 "nbformat_minor": 2
}
